{
 "cells": [
  {
   "cell_type": "code",
   "execution_count": 12,
   "id": "86456eaf-a9fa-4394-a411-4620ba284e4d",
   "metadata": {},
   "outputs": [],
   "source": [
    "import os\n",
    "from tqdm import tqdm\n",
    "import cv2\n",
    "import pandas as pd\n",
    "%matplotlib inline"
   ]
  },
  {
   "cell_type": "markdown",
   "id": "b0a7b088-0129-494f-b20b-e1c29a7146d8",
   "metadata": {},
   "source": [
    "# Read from dataset"
   ]
  },
  {
   "cell_type": "code",
   "execution_count": 2,
   "id": "6c86afbe-b4cd-48fc-b676-47baadd6c2d2",
   "metadata": {},
   "outputs": [
    {
     "name": "stdout",
     "output_type": "stream",
     "text": [
      "200\n"
     ]
    },
    {
     "data": {
      "text/html": [
       "<div>\n",
       "<style scoped>\n",
       "    .dataframe tbody tr th:only-of-type {\n",
       "        vertical-align: middle;\n",
       "    }\n",
       "\n",
       "    .dataframe tbody tr th {\n",
       "        vertical-align: top;\n",
       "    }\n",
       "\n",
       "    .dataframe thead th {\n",
       "        text-align: right;\n",
       "    }\n",
       "</style>\n",
       "<table border=\"1\" class=\"dataframe\">\n",
       "  <thead>\n",
       "    <tr style=\"text-align: right;\">\n",
       "      <th></th>\n",
       "      <th>Ticket</th>\n",
       "      <th>Category</th>\n",
       "      <th>Name</th>\n",
       "      <th>Recording method</th>\n",
       "      <th>Note</th>\n",
       "      <th>Not whole screen</th>\n",
       "      <th>Poor quality</th>\n",
       "      <th>Shaky</th>\n",
       "      <th>Voice-assistant related</th>\n",
       "      <th>Other</th>\n",
       "      <th>Frame</th>\n",
       "    </tr>\n",
       "  </thead>\n",
       "  <tbody>\n",
       "    <tr>\n",
       "      <th>0</th>\n",
       "      <td>NGC3D-258315</td>\n",
       "      <td>screen slide</td>\n",
       "      <td>FM</td>\n",
       "      <td>Camera</td>\n",
       "      <td>Not whole screen</td>\n",
       "      <td>1.0</td>\n",
       "      <td>NaN</td>\n",
       "      <td>NaN</td>\n",
       "      <td>NaN</td>\n",
       "      <td>NaN</td>\n",
       "      <td>NaN</td>\n",
       "    </tr>\n",
       "    <tr>\n",
       "      <th>1</th>\n",
       "      <td>CCS2BUG-586</td>\n",
       "      <td>frame error</td>\n",
       "      <td>AA connected phone receive message</td>\n",
       "      <td>Capture/Emulator</td>\n",
       "      <td>NaN</td>\n",
       "      <td>NaN</td>\n",
       "      <td>NaN</td>\n",
       "      <td>NaN</td>\n",
       "      <td>NaN</td>\n",
       "      <td>NaN</td>\n",
       "      <td>103,288,499</td>\n",
       "    </tr>\n",
       "    <tr>\n",
       "      <th>2</th>\n",
       "      <td>NCG3D-263526</td>\n",
       "      <td>list - slider</td>\n",
       "      <td>Half Turn List (2)</td>\n",
       "      <td>Camera</td>\n",
       "      <td>NaN</td>\n",
       "      <td>NaN</td>\n",
       "      <td>NaN</td>\n",
       "      <td>NaN</td>\n",
       "      <td>NaN</td>\n",
       "      <td>NaN</td>\n",
       "      <td>NaN</td>\n",
       "    </tr>\n",
       "    <tr>\n",
       "      <th>3</th>\n",
       "      <td>NCG3D-226483</td>\n",
       "      <td>screen slide</td>\n",
       "      <td>swipe left</td>\n",
       "      <td>Camera</td>\n",
       "      <td>Dark screen</td>\n",
       "      <td>NaN</td>\n",
       "      <td>NaN</td>\n",
       "      <td>NaN</td>\n",
       "      <td>NaN</td>\n",
       "      <td>1.0</td>\n",
       "      <td>NaN</td>\n",
       "    </tr>\n",
       "    <tr>\n",
       "      <th>4</th>\n",
       "      <td>NCG3D-281808</td>\n",
       "      <td>chaotic switch</td>\n",
       "      <td>connect iphone</td>\n",
       "      <td>Camera</td>\n",
       "      <td>2 bugs</td>\n",
       "      <td>NaN</td>\n",
       "      <td>NaN</td>\n",
       "      <td>NaN</td>\n",
       "      <td>NaN</td>\n",
       "      <td>NaN</td>\n",
       "      <td>NaN</td>\n",
       "    </tr>\n",
       "  </tbody>\n",
       "</table>\n",
       "</div>"
      ],
      "text/plain": [
       "         Ticket        Category                                Name  \\\n",
       "0  NGC3D-258315    screen slide                                  FM   \n",
       "1   CCS2BUG-586     frame error  AA connected phone receive message   \n",
       "2  NCG3D-263526   list - slider                  Half Turn List (2)   \n",
       "3  NCG3D-226483    screen slide                          swipe left   \n",
       "4  NCG3D-281808  chaotic switch                      connect iphone   \n",
       "\n",
       "   Recording method              Note  Not whole screen  Poor quality  Shaky  \\\n",
       "0            Camera  Not whole screen               1.0           NaN    NaN   \n",
       "1  Capture/Emulator               NaN               NaN           NaN    NaN   \n",
       "2            Camera               NaN               NaN           NaN    NaN   \n",
       "3            Camera       Dark screen               NaN           NaN    NaN   \n",
       "4            Camera            2 bugs               NaN           NaN    NaN   \n",
       "\n",
       "   Voice-assistant related  Other        Frame  \n",
       "0                      NaN    NaN          NaN  \n",
       "1                      NaN    NaN  103,288,499  \n",
       "2                      NaN    NaN          NaN  \n",
       "3                      NaN    1.0          NaN  \n",
       "4                      NaN    NaN          NaN  "
      ]
     },
     "execution_count": 2,
     "metadata": {},
     "output_type": "execute_result"
    }
   ],
   "source": [
    "df = pd.read_excel('../ticket table by categories.xlsx',sheet_name='Sheet1',header=0)\n",
    "print(len(df))\n",
    "df.head()"
   ]
  },
  {
   "cell_type": "code",
   "execution_count": 3,
   "id": "e907fb25-6eb9-47fd-8622-5cde387b2293",
   "metadata": {},
   "outputs": [
    {
     "name": "stdout",
     "output_type": "stream",
     "text": [
      "51\n"
     ]
    },
    {
     "data": {
      "text/html": [
       "<div>\n",
       "<style scoped>\n",
       "    .dataframe tbody tr th:only-of-type {\n",
       "        vertical-align: middle;\n",
       "    }\n",
       "\n",
       "    .dataframe tbody tr th {\n",
       "        vertical-align: top;\n",
       "    }\n",
       "\n",
       "    .dataframe thead th {\n",
       "        text-align: right;\n",
       "    }\n",
       "</style>\n",
       "<table border=\"1\" class=\"dataframe\">\n",
       "  <thead>\n",
       "    <tr style=\"text-align: right;\">\n",
       "      <th></th>\n",
       "      <th>Name</th>\n",
       "      <th>Frame</th>\n",
       "    </tr>\n",
       "  </thead>\n",
       "  <tbody>\n",
       "    <tr>\n",
       "      <th>0</th>\n",
       "      <td>AA connected phone receive message</td>\n",
       "      <td>103,288,499</td>\n",
       "    </tr>\n",
       "    <tr>\n",
       "      <th>1</th>\n",
       "      <td>AM-FM CP AM-FM</td>\n",
       "      <td>110,177,228,279,327,374,414,457,499,549,600,64...</td>\n",
       "    </tr>\n",
       "    <tr>\n",
       "      <th>2</th>\n",
       "      <td>black screen when trigger Siri</td>\n",
       "      <td>548,854</td>\n",
       "    </tr>\n",
       "    <tr>\n",
       "      <th>3</th>\n",
       "      <td>clock issue</td>\n",
       "      <td>27,84,206,248,573,716</td>\n",
       "    </tr>\n",
       "    <tr>\n",
       "      <th>4</th>\n",
       "      <td>connect CP then connect AA</td>\n",
       "      <td>380,538,543,746,753</td>\n",
       "    </tr>\n",
       "  </tbody>\n",
       "</table>\n",
       "</div>"
      ],
      "text/plain": [
       "                                 Name  \\\n",
       "0  AA connected phone receive message   \n",
       "1                      AM-FM CP AM-FM   \n",
       "2      black screen when trigger Siri   \n",
       "3                         clock issue   \n",
       "4          connect CP then connect AA   \n",
       "\n",
       "                                               Frame  \n",
       "0                                        103,288,499  \n",
       "1  110,177,228,279,327,374,414,457,499,549,600,64...  \n",
       "2                                            548,854  \n",
       "3                              27,84,206,248,573,716  \n",
       "4                                380,538,543,746,753  "
      ]
     },
     "execution_count": 3,
     "metadata": {},
     "output_type": "execute_result"
    }
   ],
   "source": [
    "for i in range(len(df)):\n",
    "    if pd.isna(df.loc[i,'Frame']) or df.loc[i,'Category'] != 'frame error' or df.loc[i,'Recording method'] != 'Capture/Emulator':\n",
    "        df.drop(labels=i,axis=0,inplace=True)\n",
    "\n",
    "print(len(df))\n",
    "df = df.reset_index(drop = True)\n",
    "df = df[['Name','Frame']]\n",
    "df.head()"
   ]
  },
  {
   "cell_type": "markdown",
   "id": "8112f3ec-6c93-4ae7-be26-6141b9fe6c10",
   "metadata": {},
   "source": [
    "# Write videos"
   ]
  },
  {
   "cell_type": "code",
   "execution_count": 4,
   "id": "a209eb2c-13f1-4d90-af4d-5fe6cb15e221",
   "metadata": {},
   "outputs": [],
   "source": [
    "def split_csv(str):\n",
    "    answer = []\n",
    "    for number in str.split(','):\n",
    "        answer.append(int(number))\n",
    "    return answer"
   ]
  },
  {
   "cell_type": "code",
   "execution_count": 5,
   "id": "67856dc0-cbe6-4247-86d4-9d06327e55b7",
   "metadata": {},
   "outputs": [],
   "source": [
    "def get_frame_number(filename):\n",
    "    return int(filename.split('_')[0][5:])"
   ]
  },
  {
   "cell_type": "code",
   "execution_count": 18,
   "id": "bab8febc-a1d8-4f2e-88b5-debf738b04b3",
   "metadata": {},
   "outputs": [
    {
     "name": "stderr",
     "output_type": "stream",
     "text": [
      "0it [00:00, ?it/s]"
     ]
    },
    {
     "name": "stdout",
     "output_type": "stream",
     "text": [
      "black screen when trigger Siri 1380\n"
     ]
    },
    {
     "name": "stderr",
     "output_type": "stream",
     "text": [
      "2it [00:57, 28.99s/it]"
     ]
    },
    {
     "name": "stdout",
     "output_type": "stream",
     "text": [
      "long press 2 widgets on 2nd page switch to 1st page 168\n"
     ]
    },
    {
     "name": "stderr",
     "output_type": "stream",
     "text": [
      "5it [01:07, 11.34s/it]"
     ]
    },
    {
     "name": "stdout",
     "output_type": "stream",
     "text": [
      "Home Camera Apps 2 1172\n"
     ]
    },
    {
     "name": "stderr",
     "output_type": "stream",
     "text": [
      "7it [01:56, 16.53s/it]"
     ]
    },
    {
     "name": "stdout",
     "output_type": "stream",
     "text": [
      "CP to All settings 12 600\n"
     ]
    },
    {
     "name": "stderr",
     "output_type": "stream",
     "text": [
      "8it [02:29, 20.08s/it]"
     ]
    },
    {
     "name": "stdout",
     "output_type": "stream",
     "text": [
      "CP to Music 1 530\n"
     ]
    },
    {
     "name": "stderr",
     "output_type": "stream",
     "text": [
      "10it [02:42, 14.97s/it]"
     ]
    },
    {
     "name": "stdout",
     "output_type": "stream",
     "text": [
      "Home Camera Apps 3 600\n"
     ]
    },
    {
     "name": "stderr",
     "output_type": "stream",
     "text": [
      "12it [03:06, 13.80s/it]"
     ]
    },
    {
     "name": "stdout",
     "output_type": "stream",
     "text": [
      "press map and audio same time 856\n"
     ]
    },
    {
     "name": "stderr",
     "output_type": "stream",
     "text": [
      "14it [03:48, 16.34s/it]"
     ]
    },
    {
     "name": "stdout",
     "output_type": "stream",
     "text": [
      "music back to bluetooth to music 1140\n"
     ]
    },
    {
     "name": "stderr",
     "output_type": "stream",
     "text": [
      "21it [04:46, 11.26s/it]"
     ]
    },
    {
     "name": "stdout",
     "output_type": "stream",
     "text": [
      "play video from usb 756\n"
     ]
    },
    {
     "name": "stderr",
     "output_type": "stream",
     "text": [
      "23it [05:34, 13.83s/it]"
     ]
    },
    {
     "name": "stdout",
     "output_type": "stream",
     "text": [
      "CP to Music FM 2 50\n"
     ]
    },
    {
     "name": "stderr",
     "output_type": "stream",
     "text": [
      "25it [05:35, 10.90s/it]"
     ]
    },
    {
     "name": "stdout",
     "output_type": "stream",
     "text": [
      "CP to All settings 5 192\n"
     ]
    },
    {
     "name": "stderr",
     "output_type": "stream",
     "text": [
      "28it [05:40,  7.90s/it]"
     ]
    },
    {
     "name": "stdout",
     "output_type": "stream",
     "text": [
      "CP to All settings 7 536\n"
     ]
    },
    {
     "name": "stderr",
     "output_type": "stream",
     "text": [
      "30it [05:48,  6.90s/it]"
     ]
    },
    {
     "name": "stdout",
     "output_type": "stream",
     "text": [
      "Music to AA 2400\n"
     ]
    },
    {
     "name": "stderr",
     "output_type": "stream",
     "text": [
      "31it [07:32, 21.06s/it]"
     ]
    },
    {
     "name": "stdout",
     "output_type": "stream",
     "text": [
      "Home Camera Music 618\n"
     ]
    },
    {
     "name": "stderr",
     "output_type": "stream",
     "text": [
      "34it [07:56, 16.05s/it]"
     ]
    },
    {
     "name": "stdout",
     "output_type": "stream",
     "text": [
      "disconnect ipod 1 905\n"
     ]
    },
    {
     "name": "stderr",
     "output_type": "stream",
     "text": [
      "36it [08:38, 17.26s/it]"
     ]
    },
    {
     "name": "stdout",
     "output_type": "stream",
     "text": [
      "CP to Music Bluetooth 290\n"
     ]
    },
    {
     "name": "stderr",
     "output_type": "stream",
     "text": [
      "39it [08:49, 12.32s/it]"
     ]
    },
    {
     "name": "stdout",
     "output_type": "stream",
     "text": [
      "Home to Music 1676\n"
     ]
    },
    {
     "name": "stderr",
     "output_type": "stream",
     "text": [
      "44it [10:07, 13.91s/it]"
     ]
    },
    {
     "name": "stdout",
     "output_type": "stream",
     "text": [
      "HDMI now playing 795\n"
     ]
    },
    {
     "name": "stderr",
     "output_type": "stream",
     "text": [
      "46it [10:44, 14.83s/it]"
     ]
    },
    {
     "name": "stdout",
     "output_type": "stream",
     "text": [
      "Music CP Music 1006\n"
     ]
    },
    {
     "name": "stderr",
     "output_type": "stream",
     "text": [
      "47it [11:51, 21.58s/it]"
     ]
    },
    {
     "name": "stdout",
     "output_type": "stream",
     "text": [
      "HDMI aspect ratio settings 797\n"
     ]
    },
    {
     "name": "stderr",
     "output_type": "stream",
     "text": [
      "49it [12:28, 20.82s/it]"
     ]
    },
    {
     "name": "stdout",
     "output_type": "stream",
     "text": [
      "disconnect ipod 2 779\n"
     ]
    },
    {
     "name": "stderr",
     "output_type": "stream",
     "text": [
      "50it [13:12, 24.53s/it]"
     ]
    },
    {
     "name": "stdout",
     "output_type": "stream",
     "text": [
      "end call 225\n"
     ]
    },
    {
     "name": "stderr",
     "output_type": "stream",
     "text": [
      "52it [13:21, 18.15s/it]"
     ]
    },
    {
     "name": "stdout",
     "output_type": "stream",
     "text": [
      "CP to All settings 10 179\n"
     ]
    },
    {
     "name": "stderr",
     "output_type": "stream",
     "text": [
      "54it [13:28, 13.67s/it]"
     ]
    },
    {
     "name": "stdout",
     "output_type": "stream",
     "text": [
      "CP FM CP 209\n"
     ]
    },
    {
     "name": "stderr",
     "output_type": "stream",
     "text": [
      "57it [13:38,  9.47s/it]"
     ]
    },
    {
     "name": "stdout",
     "output_type": "stream",
     "text": [
      "clock issue 755\n"
     ]
    },
    {
     "name": "stderr",
     "output_type": "stream",
     "text": [
      "60it [14:09,  9.79s/it]"
     ]
    },
    {
     "name": "stdout",
     "output_type": "stream",
     "text": [
      "AM-FM CP AM-FM 1576\n"
     ]
    },
    {
     "name": "stderr",
     "output_type": "stream",
     "text": [
      "65it [15:53, 14.96s/it]"
     ]
    },
    {
     "name": "stdout",
     "output_type": "stream",
     "text": [
      "multiple flickers in My Music 1 1144\n"
     ]
    },
    {
     "name": "stderr",
     "output_type": "stream",
     "text": [
      "66it [16:43, 19.01s/it]"
     ]
    },
    {
     "name": "stdout",
     "output_type": "stream",
     "text": [
      "quick-settings user settings 368\n"
     ]
    },
    {
     "name": "stderr",
     "output_type": "stream",
     "text": [
      "70it [16:51, 12.17s/it]"
     ]
    },
    {
     "name": "stdout",
     "output_type": "stream",
     "text": [
      "DirectTune FM 908\n"
     ]
    },
    {
     "name": "stderr",
     "output_type": "stream",
     "text": [
      "71it [17:37, 16.47s/it]"
     ]
    },
    {
     "name": "stdout",
     "output_type": "stream",
     "text": [
      "CP to All settings 3 192\n"
     ]
    },
    {
     "name": "stderr",
     "output_type": "stream",
     "text": [
      "72it [17:42, 14.77s/it]"
     ]
    },
    {
     "name": "stdout",
     "output_type": "stream",
     "text": [
      "connect CP then connect AA 900\n"
     ]
    },
    {
     "name": "stderr",
     "output_type": "stream",
     "text": [
      "73it [18:04, 15.89s/it]"
     ]
    },
    {
     "name": "stdout",
     "output_type": "stream",
     "text": [
      "CP to Music Now Playing 90\n"
     ]
    },
    {
     "name": "stderr",
     "output_type": "stream",
     "text": [
      "77it [18:07,  8.29s/it]"
     ]
    },
    {
     "name": "stdout",
     "output_type": "stream",
     "text": [
      "CP to Music AM 2 70\n"
     ]
    },
    {
     "name": "stderr",
     "output_type": "stream",
     "text": [
      "78it [18:09,  7.41s/it]"
     ]
    },
    {
     "name": "stdout",
     "output_type": "stream",
     "text": [
      "google assistant in CP 1485\n"
     ]
    },
    {
     "name": "stderr",
     "output_type": "stream",
     "text": [
      "80it [18:44, 10.42s/it]"
     ]
    },
    {
     "name": "stdout",
     "output_type": "stream",
     "text": [
      "CP to Music 6 679\n"
     ]
    },
    {
     "name": "stderr",
     "output_type": "stream",
     "text": [
      "83it [19:20, 11.10s/it]"
     ]
    },
    {
     "name": "stdout",
     "output_type": "stream",
     "text": [
      "CP to All settings 4 192\n"
     ]
    },
    {
     "name": "stderr",
     "output_type": "stream",
     "text": [
      "86it [19:26,  7.76s/it]"
     ]
    },
    {
     "name": "stdout",
     "output_type": "stream",
     "text": [
      "native CP 593\n"
     ]
    },
    {
     "name": "stderr",
     "output_type": "stream",
     "text": [
      "97it [19:33,  3.12s/it]"
     ]
    },
    {
     "name": "stdout",
     "output_type": "stream",
     "text": [
      "CP to Music 4 743\n"
     ]
    },
    {
     "name": "stderr",
     "output_type": "stream",
     "text": [
      "102it [20:12,  4.51s/it]"
     ]
    },
    {
     "name": "stdout",
     "output_type": "stream",
     "text": [
      "CP to All settings 11 79\n"
     ]
    },
    {
     "name": "stderr",
     "output_type": "stream",
     "text": [
      "103it [20:15,  4.38s/it]"
     ]
    },
    {
     "name": "stdout",
     "output_type": "stream",
     "text": [
      "AA connected phone receive message 560\n"
     ]
    },
    {
     "name": "stderr",
     "output_type": "stream",
     "text": [
      "105it [20:22,  4.19s/it]"
     ]
    },
    {
     "name": "stdout",
     "output_type": "stream",
     "text": [
      "Music to Bluetooth 441\n"
     ]
    },
    {
     "name": "stderr",
     "output_type": "stream",
     "text": [
      "106it [20:42,  6.06s/it]"
     ]
    },
    {
     "name": "stdout",
     "output_type": "stream",
     "text": [
      "CP to Music FM 50\n"
     ]
    },
    {
     "name": "stderr",
     "output_type": "stream",
     "text": [
      "107it [20:44,  5.44s/it]"
     ]
    },
    {
     "name": "stdout",
     "output_type": "stream",
     "text": [
      "DirectTune white screen 408\n"
     ]
    },
    {
     "name": "stderr",
     "output_type": "stream",
     "text": [
      "108it [21:04,  7.94s/it]"
     ]
    },
    {
     "name": "stdout",
     "output_type": "stream",
     "text": [
      "CP to Music 5 168\n"
     ]
    },
    {
     "name": "stderr",
     "output_type": "stream",
     "text": [
      "110it [21:09,  6.11s/it]"
     ]
    },
    {
     "name": "stdout",
     "output_type": "stream",
     "text": [
      "CP to All settings 2 453\n"
     ]
    },
    {
     "name": "stderr",
     "output_type": "stream",
     "text": [
      "111it [21:27,  8.46s/it]"
     ]
    },
    {
     "name": "stdout",
     "output_type": "stream",
     "text": [
      "CP to All settings 6 168\n"
     ]
    },
    {
     "name": "stderr",
     "output_type": "stream",
     "text": [
      "112it [21:32,  7.63s/it]"
     ]
    },
    {
     "name": "stdout",
     "output_type": "stream",
     "text": [
      "CP to Music AM 70\n"
     ]
    },
    {
     "name": "stderr",
     "output_type": "stream",
     "text": [
      "113it [21:34,  6.42s/it]"
     ]
    },
    {
     "name": "stdout",
     "output_type": "stream",
     "text": [
      "multiple flickers in My Music 2 632\n"
     ]
    },
    {
     "name": "stderr",
     "output_type": "stream",
     "text": [
      "115it [22:04,  9.72s/it]"
     ]
    },
    {
     "name": "stdout",
     "output_type": "stream",
     "text": [
      "enable CP popup 660\n"
     ]
    },
    {
     "name": "stderr",
     "output_type": "stream",
     "text": [
      "116it [22:28, 13.04s/it]"
     ]
    },
    {
     "name": "stdout",
     "output_type": "stream",
     "text": [
      "press phone, white screen 383\n"
     ]
    },
    {
     "name": "stderr",
     "output_type": "stream",
     "text": [
      "117it [22:48, 14.61s/it]"
     ]
    },
    {
     "name": "stdout",
     "output_type": "stream",
     "text": [
      "CP map CP 439\n"
     ]
    },
    {
     "name": "stderr",
     "output_type": "stream",
     "text": [
      "120it [23:04, 11.54s/it]\n"
     ]
    }
   ],
   "source": [
    "FRAME_PATH = '../frames/frame error/'\n",
    "\n",
    "for root, dirs, files in tqdm(os.walk(FRAME_PATH)):\n",
    "    video_name = root.split('/')[-1]\n",
    "    if len(files) > 0 and video_name in df['Name'].values:\n",
    "        print(video_name, len(files))\n",
    "        try:\n",
    "            if not os.path.exists(f'./data/{video_name}'):\n",
    "                os.makedirs(f'./data/{video_name}')\n",
    "        except OSError:\n",
    "            print ('Error: Creating directory of data')\n",
    "            break\n",
    "        \n",
    "        height, width, _ = cv2.imread(os.path.join(root, files[0])).shape   \n",
    "        shape = (width, height)\n",
    "        flicker_frames = split_csv(df.loc[df['Name'] == video_name]['Frame'].values[0])\n",
    "        current = 0\n",
    "        files = sorted(files,key=get_frame_number)\n",
    "\n",
    "        start = 0\n",
    "        end = 0\n",
    "        eof = len(files)\n",
    "        _stride = 5\n",
    "        while end < eof:\n",
    "            end = start\n",
    "            if end + 16 <= eof:\n",
    "                end += 16\n",
    "            else:\n",
    "                padding = end + 16 - eof\n",
    "                end = eof\n",
    "                start -= padding\n",
    "\n",
    "            target = 0\n",
    "            for flicker in flicker_frames:\n",
    "                if flicker >= start and flicker < end:\n",
    "                    target = 1\n",
    "                    break\n",
    "            \n",
    "            out = cv2.VideoWriter(f'./data/{video_name}/{video_name}_{start}_{end-1}_{target}.mp4',cv2.VideoWriter_fourcc(*'mp4v'), 16, shape)\n",
    "            for i in range(start, end):\n",
    "                frame = cv2.imread(os.path.join(root,files[i]))\n",
    "                out.write(frame)\n",
    "        \n",
    "            start += _stride"
   ]
  },
  {
   "cell_type": "code",
   "execution_count": null,
   "id": "671750ee-7e9b-4f58-b65a-ee4d4ce9a90a",
   "metadata": {},
   "outputs": [],
   "source": []
  }
 ],
 "metadata": {
  "kernelspec": {
   "display_name": "Python 3 (ipykernel)",
   "language": "python",
   "name": "python3"
  },
  "language_info": {
   "codemirror_mode": {
    "name": "ipython",
    "version": 3
   },
   "file_extension": ".py",
   "mimetype": "text/x-python",
   "name": "python",
   "nbconvert_exporter": "python",
   "pygments_lexer": "ipython3",
   "version": "3.10.12"
  }
 },
 "nbformat": 4,
 "nbformat_minor": 5
}
