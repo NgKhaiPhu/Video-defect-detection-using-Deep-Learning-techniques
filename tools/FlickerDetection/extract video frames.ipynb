{
 "cells": [
  {
   "cell_type": "code",
   "execution_count": 1,
   "id": "451f8109-e046-410e-9606-04f13b5f6823",
   "metadata": {},
   "outputs": [],
   "source": [
    "import cv2\n",
    "%matplotlib inline\n",
    "import os\n",
    "from tqdm import tqdm"
   ]
  },
  {
   "cell_type": "code",
   "execution_count": 2,
   "id": "91c5ffb0-77fd-42ff-a546-e26c0f8e42b0",
   "metadata": {},
   "outputs": [],
   "source": [
    "def get_videos_from_folder(folder_path):\n",
    "    video_list = []\n",
    "    for root, dirs, files in os.walk(folder_path):\n",
    "        for name in sorted(files):\n",
    "            video_list.append(os.path.join(root,name))\n",
    "\n",
    "    return video_list"
   ]
  },
  {
   "cell_type": "code",
   "execution_count": 3,
   "id": "235a3968-d745-4b1d-b660-91b5847ece8f",
   "metadata": {},
   "outputs": [],
   "source": [
    "def convertMillis(millis):\n",
    "     seconds=int(millis/1000)%60\n",
    "     minutes=int(millis/(1000*60))%60\n",
    "     hours=int(millis/(1000*60*60))%24\n",
    "     return hours, minutes, seconds"
   ]
  },
  {
   "cell_type": "code",
   "execution_count": 4,
   "id": "20d5ebf4-bdd8-43ca-8dfa-7f5b50185b35",
   "metadata": {},
   "outputs": [],
   "source": [
    "def extract_video_frames(video_path, folder_path):\n",
    "    cap = cv2.VideoCapture(video_path)\n",
    "      \n",
    "    try:\n",
    "        if not os.path.exists(folder_path):\n",
    "            os.makedirs(folder_path)\n",
    "    except OSError:\n",
    "        print ('Error: Creating directory of data')\n",
    "        return\n",
    "      \n",
    "    currentframe = 0\n",
    "      \n",
    "    while(True):\n",
    "        ret,frame = cap.read()\n",
    "        if ret:\n",
    "            hours, minutes, seconds = convertMillis(cap.get(cv2.CAP_PROP_POS_MSEC))\n",
    "            name = os.path.join(folder_path,f'frame{str(currentframe)}_{hours:02d}{minutes:02d}{seconds:02d}.jpg')\n",
    "            cv2.imwrite(name, frame)\n",
    "            currentframe += 1\n",
    "        else:\n",
    "            break"
   ]
  },
  {
   "cell_type": "code",
   "execution_count": 6,
   "id": "87ad0fba-ec1d-4d55-81e4-518066e5d3b5",
   "metadata": {},
   "outputs": [],
   "source": [
    "video_list = get_videos_from_folder('./videos - old/frame error')"
   ]
  },
  {
   "cell_type": "code",
   "execution_count": 5,
   "id": "92ad5859-a9f5-42b9-8cf3-01bd3193f71f",
   "metadata": {},
   "outputs": [],
   "source": [
    "video_list = [ './videos - old/frame error/CP to Music 4.mp4',\n",
    " './videos - old/frame error/CP to Music 5.mp4',\n",
    " './videos - old/frame error/CP to Music 6.mp4',\n",
    " './videos - old/frame error/CP to Music 7.mp4']"
   ]
  },
  {
   "cell_type": "code",
   "execution_count": 6,
   "id": "5abb26e1-98cc-471c-9a77-e8b2ca96e060",
   "metadata": {},
   "outputs": [
    {
     "name": "stderr",
     "output_type": "stream",
     "text": [
      "100%|███████████████████████████████████████████████████████████████████████████████████████████████| 4/4 [00:12<00:00,  3.20s/it]\n"
     ]
    }
   ],
   "source": [
    "for video_path in tqdm(video_list):\n",
    "    extract_video_frames(video_path,os.path.join('./frames',video_path[15:-4]))"
   ]
  },
  {
   "cell_type": "code",
   "execution_count": null,
   "id": "b221619d-d52f-4eb8-b8a1-4b24f84d3a11",
   "metadata": {},
   "outputs": [],
   "source": []
  }
 ],
 "metadata": {
  "kernelspec": {
   "display_name": "Python 3 (ipykernel)",
   "language": "python",
   "name": "python3"
  },
  "language_info": {
   "codemirror_mode": {
    "name": "ipython",
    "version": 3
   },
   "file_extension": ".py",
   "mimetype": "text/x-python",
   "name": "python",
   "nbconvert_exporter": "python",
   "pygments_lexer": "ipython3",
   "version": "3.10.12"
  }
 },
 "nbformat": 4,
 "nbformat_minor": 5
}
