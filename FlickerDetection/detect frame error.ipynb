{
 "cells": [
  {
   "cell_type": "code",
   "execution_count": 2,
   "id": "e7fec9f1-9635-4e0a-a9ad-158d83ff9d85",
   "metadata": {},
   "outputs": [],
   "source": [
    "import numpy as np\n",
    "import pandas as pd\n",
    "import cv2\n",
    "import matplotlib.pyplot as plt\n",
    "%matplotlib inline\n",
    "import os\n",
    "from tqdm import tqdm\n",
    "pd.set_option('display.max_colwidth', None) "
   ]
  },
  {
   "cell_type": "code",
   "execution_count": 7,
   "id": "056d7824-5426-40a8-9d7e-c6275b9c71e0",
   "metadata": {},
   "outputs": [],
   "source": [
    "frame_path = pd.DataFrame()\n",
    "for root, dirs, files in os.walk('./frames/frame error/AM-FM CP AM-FM'):\n",
    "    for name in files:\n",
    "        index = name[5:-11]\n",
    "        frame_path.loc[int(index),'path'] = os.path.join(root,name)"
   ]
  },
  {
   "cell_type": "code",
   "execution_count": 8,
   "id": "1bedbd17-cfc6-4d81-9033-6d6dc1a63e94",
   "metadata": {},
   "outputs": [
    {
     "data": {
      "text/html": [
       "<div>\n",
       "<style scoped>\n",
       "    .dataframe tbody tr th:only-of-type {\n",
       "        vertical-align: middle;\n",
       "    }\n",
       "\n",
       "    .dataframe tbody tr th {\n",
       "        vertical-align: top;\n",
       "    }\n",
       "\n",
       "    .dataframe thead th {\n",
       "        text-align: right;\n",
       "    }\n",
       "</style>\n",
       "<table border=\"1\" class=\"dataframe\">\n",
       "  <thead>\n",
       "    <tr style=\"text-align: right;\">\n",
       "      <th></th>\n",
       "      <th>path</th>\n",
       "    </tr>\n",
       "  </thead>\n",
       "  <tbody>\n",
       "    <tr>\n",
       "      <th>0</th>\n",
       "      <td>./frames/frame error/AM-FM CP AM-FM/frame0_000000.jpg</td>\n",
       "    </tr>\n",
       "    <tr>\n",
       "      <th>1</th>\n",
       "      <td>./frames/frame error/AM-FM CP AM-FM/frame1_000000.jpg</td>\n",
       "    </tr>\n",
       "    <tr>\n",
       "      <th>2</th>\n",
       "      <td>./frames/frame error/AM-FM CP AM-FM/frame2_000000.jpg</td>\n",
       "    </tr>\n",
       "    <tr>\n",
       "      <th>3</th>\n",
       "      <td>./frames/frame error/AM-FM CP AM-FM/frame3_000000.jpg</td>\n",
       "    </tr>\n",
       "    <tr>\n",
       "      <th>4</th>\n",
       "      <td>./frames/frame error/AM-FM CP AM-FM/frame4_000000.jpg</td>\n",
       "    </tr>\n",
       "    <tr>\n",
       "      <th>...</th>\n",
       "      <td>...</td>\n",
       "    </tr>\n",
       "    <tr>\n",
       "      <th>1571</th>\n",
       "      <td>./frames/frame error/AM-FM CP AM-FM/frame1571_000105.jpg</td>\n",
       "    </tr>\n",
       "    <tr>\n",
       "      <th>1572</th>\n",
       "      <td>./frames/frame error/AM-FM CP AM-FM/frame1572_000105.jpg</td>\n",
       "    </tr>\n",
       "    <tr>\n",
       "      <th>1573</th>\n",
       "      <td>./frames/frame error/AM-FM CP AM-FM/frame1573_000105.jpg</td>\n",
       "    </tr>\n",
       "    <tr>\n",
       "      <th>1574</th>\n",
       "      <td>./frames/frame error/AM-FM CP AM-FM/frame1574_000105.jpg</td>\n",
       "    </tr>\n",
       "    <tr>\n",
       "      <th>1575</th>\n",
       "      <td>./frames/frame error/AM-FM CP AM-FM/frame1575_000105.jpg</td>\n",
       "    </tr>\n",
       "  </tbody>\n",
       "</table>\n",
       "<p>1576 rows × 1 columns</p>\n",
       "</div>"
      ],
      "text/plain": [
       "                                                          path\n",
       "0        ./frames/frame error/AM-FM CP AM-FM/frame0_000000.jpg\n",
       "1        ./frames/frame error/AM-FM CP AM-FM/frame1_000000.jpg\n",
       "2        ./frames/frame error/AM-FM CP AM-FM/frame2_000000.jpg\n",
       "3        ./frames/frame error/AM-FM CP AM-FM/frame3_000000.jpg\n",
       "4        ./frames/frame error/AM-FM CP AM-FM/frame4_000000.jpg\n",
       "...                                                        ...\n",
       "1571  ./frames/frame error/AM-FM CP AM-FM/frame1571_000105.jpg\n",
       "1572  ./frames/frame error/AM-FM CP AM-FM/frame1572_000105.jpg\n",
       "1573  ./frames/frame error/AM-FM CP AM-FM/frame1573_000105.jpg\n",
       "1574  ./frames/frame error/AM-FM CP AM-FM/frame1574_000105.jpg\n",
       "1575  ./frames/frame error/AM-FM CP AM-FM/frame1575_000105.jpg\n",
       "\n",
       "[1576 rows x 1 columns]"
      ]
     },
     "execution_count": 8,
     "metadata": {},
     "output_type": "execute_result"
    }
   ],
   "source": [
    "frame_path = frame_path.sort_index()\n",
    "frame_path"
   ]
  },
  {
   "cell_type": "code",
   "execution_count": 9,
   "id": "4065b658-d3ad-4790-9362-aec1572be37c",
   "metadata": {},
   "outputs": [
    {
     "name": "stderr",
     "output_type": "stream",
     "text": [
      "100%|█████████████████████████████████████████████████████████████████████████████████████████| 1575/1575 [00:22<00:00, 70.28it/s]\n"
     ]
    }
   ],
   "source": [
    "diff = []\n",
    "for i in tqdm(range(len(frame_path[:-1]))):\n",
    "    diff.append(np.mean(cv2.imread(frame_path['path'].iloc[i+1],0).astype(np.int16)-cv2.imread(frame_path['path'].iloc[i],0).astype(np.int16)))"
   ]
  },
  {
   "cell_type": "code",
   "execution_count": 10,
   "id": "af05d6ee-58ca-4314-9a9a-2f1cb2ffd4e9",
   "metadata": {},
   "outputs": [],
   "source": [
    "sum_list = []\n",
    "threshold_list = []\n",
    "for window in range(3,8):\n",
    "    sum_list_for_each_window = []\n",
    "    threshold_list_for_each_window = []\n",
    "    for i in range(len(diff[:-window])):\n",
    "        temp_sum = 0\n",
    "        temp_abs_sum = 0\n",
    "        for value in diff[i:i+window]:\n",
    "            if abs(value) > 1: # only significant frame\n",
    "                temp_sum += value\n",
    "                temp_abs_sum += abs(value)\n",
    "        sum_list_for_each_window.append(temp_sum)\n",
    "        threshold_list_for_each_window.append(temp_abs_sum)\n",
    "    sum_list.append(sum_list_for_each_window)\n",
    "    threshold_list.append(threshold_list_for_each_window)"
   ]
  },
  {
   "cell_type": "code",
   "execution_count": 11,
   "id": "d5651b09-4677-4255-a170-445fa18acfe6",
   "metadata": {},
   "outputs": [
    {
     "name": "stdout",
     "output_type": "stream",
     "text": [
      "23\t00:00:00\twindow=5\n",
      "453\t00:00:18\twindow=4\n",
      "809\t00:00:33\twindow=4\n",
      "1137\t00:00:47\twindow=4\n",
      "1378\t00:00:57\twindow=3\n"
     ]
    }
   ],
   "source": [
    "flicker_detected = pd.DataFrame(columns=['start_frame','window'])\n",
    "for window in range(3,8):\n",
    "    for i in range(len(diff[:-window])):\n",
    "        if (diff[i] > 4 or diff[i] < -4) and abs(sum_list[window - 3][i]) < max(0.5, threshold_list[window - 3][i] / 40) and i not in flicker_detected[\"start_frame\"].values:\n",
    "            flicker_detected.loc[len(flicker_detected)] = [i, window]           \n",
    "\n",
    "flicker_detected = flicker_detected.sort_values(by='start_frame')\n",
    "for i in range(len(flicker_detected)):\n",
    "    frame, window = flicker_detected.iloc[i].values\n",
    "    timestamp = frame_path['path'].iloc[frame]\n",
    "    print(f'{frame}\\t{timestamp[-10:-8]}:{timestamp[-8:-6]}:{timestamp[-6:-4]}\\twindow={window}')\n",
    "\n",
    "# max(0.5, threshold_list[window - 3][i] / 40)"
   ]
  },
  {
   "cell_type": "code",
   "execution_count": 152,
   "id": "01268544-8f37-41ca-b480-c8a514908b0d",
   "metadata": {},
   "outputs": [
    {
     "data": {
      "text/plain": [
       "[4.47791015625,\n",
       " -0.5528797743055556,\n",
       " -0.6020399305555556,\n",
       " -1.8600694444444446,\n",
       " -2.1453960503472222]"
      ]
     },
     "execution_count": 152,
     "metadata": {},
     "output_type": "execute_result"
    }
   ],
   "source": [
    "diff[730:735]"
   ]
  },
  {
   "cell_type": "code",
   "execution_count": 43,
   "id": "fac08b13-a658-405d-8097-beb8c09605f0",
   "metadata": {},
   "outputs": [],
   "source": [
    "# sum_list = []\n",
    "# window = 5\n",
    "\n",
    "# for i in range(len(diff[:-window])):\n",
    "#     temp_sum = 0\n",
    "#     for value in diff[i:i+window]:\n",
    "#         if abs(value) > 1.2: # only significant frame\n",
    "#             temp_sum += value\n",
    "#     sum_list.append(temp_sum)"
   ]
  },
  {
   "cell_type": "code",
   "execution_count": 44,
   "id": "8e71ec43-0e9d-4047-b00d-29477777f0dd",
   "metadata": {},
   "outputs": [
    {
     "name": "stdout",
     "output_type": "stream",
     "text": [
      "162\t00:00:16\n"
     ]
    }
   ],
   "source": [
    "# flicker_detected = []\n",
    "# for i in range(len(diff[:-window])):\n",
    "#     if (diff[i] > 4 or diff[i] < -4) and abs(sum_list[i]) < 0.5:\n",
    "#         flicker_detected.append(i)           \n",
    "\n",
    "# for frame in sorted(flicker_detected):\n",
    "#     timestamp = frame_path['path'].iloc[frame]\n",
    "#     print(f'{frame}\\t{timestamp[-10:-8]}:{timestamp[-8:-6]}:{timestamp[-6:-4]}')"
   ]
  },
  {
   "cell_type": "code",
   "execution_count": 54,
   "id": "4ce603e7-fc52-41c3-8a7f-e5fc181773f8",
   "metadata": {},
   "outputs": [
    {
     "data": {
      "text/plain": [
       "[13.034951171875,\n",
       " 14.038486328125,\n",
       " 0.05139431423611107,\n",
       " 0.05139431423611107,\n",
       " 16.605608723958333]"
      ]
     },
     "execution_count": 54,
     "metadata": {},
     "output_type": "execute_result"
    }
   ],
   "source": [
    "sum_list[0][65:70]"
   ]
  },
  {
   "cell_type": "code",
   "execution_count": null,
   "id": "8f47bee8-47ef-4f0f-86dd-e92085525ff2",
   "metadata": {},
   "outputs": [],
   "source": []
  }
 ],
 "metadata": {
  "kernelspec": {
   "display_name": "Python 3 (ipykernel)",
   "language": "python",
   "name": "python3"
  },
  "language_info": {
   "codemirror_mode": {
    "name": "ipython",
    "version": 3
   },
   "file_extension": ".py",
   "mimetype": "text/x-python",
   "name": "python",
   "nbconvert_exporter": "python",
   "pygments_lexer": "ipython3",
   "version": "3.10.12"
  }
 },
 "nbformat": 4,
 "nbformat_minor": 5
}
