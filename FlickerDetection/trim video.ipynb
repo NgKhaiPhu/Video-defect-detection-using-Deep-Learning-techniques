{
 "cells": [
  {
   "cell_type": "code",
   "execution_count": 1,
   "id": "a006c397-8576-4d98-a1d5-5b28f02a8af0",
   "metadata": {},
   "outputs": [],
   "source": [
    "input_video_path = './videos by categories/frame error/SXM album art.m4v'\n",
    "output_video_path = './videos by categories/frame error/SXM album art.mp4'\n",
    "start_time, end_time = '00:00:00', '00:01:14'"
   ]
  },
  {
   "cell_type": "code",
   "execution_count": 2,
   "id": "b8ae86e7-9da4-412b-80dd-ef89abd5b06a",
   "metadata": {},
   "outputs": [
    {
     "name": "stderr",
     "output_type": "stream",
     "text": [
      "ffmpeg version 4.2.2 Copyright (c) 2000-2019 the FFmpeg developers\n",
      "  built with gcc 7.3.0 (crosstool-NG 1.23.0.449-a04d0)\n",
      "  configuration: --prefix=/tmp/build/80754af9/ffmpeg_1587154242452/_h_env_placehold_placehold_placehold_placehold_placehold_placehold_placehold_placehold_placehold_placehold_placehold_placehold_placehold_placehold_placehold_placehold_placehold_placehold_placehold_placehold_placeho --cc=/tmp/build/80754af9/ffmpeg_1587154242452/_build_env/bin/x86_64-conda_cos6-linux-gnu-cc --disable-doc --enable-avresample --enable-gmp --enable-hardcoded-tables --enable-libfreetype --enable-libvpx --enable-pthreads --enable-libopus --enable-postproc --enable-pic --enable-pthreads --enable-shared --enable-static --enable-version3 --enable-zlib --enable-libmp3lame --disable-nonfree --enable-gpl --enable-gnutls --disable-openssl --enable-libopenh264 --enable-libx264\n",
      "  libavutil      56. 31.100 / 56. 31.100\n",
      "  libavcodec     58. 54.100 / 58. 54.100\n",
      "  libavformat    58. 29.100 / 58. 29.100\n",
      "  libavdevice    58.  8.100 / 58.  8.100\n",
      "  libavfilter     7. 57.100 /  7. 57.100\n",
      "  libavresample   4.  0.  0 /  4.  0.  0\n",
      "  libswscale      5.  5.100 /  5.  5.100\n",
      "  libswresample   3.  5.100 /  3.  5.100\n",
      "  libpostproc    55.  5.100 / 55.  5.100\n",
      "Input #0, mov,mp4,m4a,3gp,3g2,mj2, from './videos by categories/frame error/SXM album art.m4v':\n",
      "  Metadata:\n",
      "    major_brand     : mp42\n",
      "    minor_version   : 512\n",
      "    compatible_brands: isomiso2avc1mp41\n",
      "    creation_time   : 2023-07-27T14:11:36.000000Z\n",
      "    encoder         : HandBrake 0.10.5 2016021100\n",
      "  Duration: 00:01:14.80, start: 0.000000, bitrate: 1076 kb/s\n",
      "    Stream #0:0(und): Video: h264 (Main) (avc1 / 0x31637661), yuv420p(tv, bt709), 1280x720 [SAR 1:1 DAR 16:9], 907 kb/s, 26.86 fps, 90k tbr, 90k tbn, 180k tbc (default)\n",
      "    Metadata:\n",
      "      creation_time   : 2023-07-27T14:11:36.000000Z\n",
      "      handler_name    : VideoHandler\n",
      "    Stream #0:1(und): Audio: aac (LC) (mp4a / 0x6134706D), 48000 Hz, stereo, fltp, 160 kb/s (default)\n",
      "    Metadata:\n",
      "      creation_time   : 2023-07-27T14:11:36.000000Z\n",
      "      handler_name    : Stereo\n",
      "Stream mapping:\n",
      "  Stream #0:0 -> #0:0 (h264 (native) -> h264 (libx264))\n",
      "  Stream #0:1 -> #0:1 (aac (native) -> aac (native))\n",
      "Press [q] to stop, [?] for help\n",
      "[libx264 @ 0x564056805680] using SAR=1/1\n",
      "[libx264 @ 0x564056805680] using cpu capabilities: MMX2 SSE2Fast SSSE3 SSE4.2 AVX FMA3 BMI2 AVX2\n",
      "[libx264 @ 0x564056805680] profile High, level 3.1, 4:2:0, 8-bit\n",
      "[libx264 @ 0x564056805680] 264 - core 157 - H.264/MPEG-4 AVC codec - Copyleft 2003-2018 - http://www.videolan.org/x264.html - options: cabac=1 ref=3 deblock=1:0:0 analyse=0x3:0x113 me=hex subme=7 psy=1 psy_rd=1.00:0.00 mixed_ref=1 me_range=16 chroma_me=1 trellis=1 8x8dct=1 cqm=0 deadzone=21,11 fast_pskip=1 chroma_qp_offset=-2 threads=18 lookahead_threads=3 sliced_threads=0 nr=0 decimate=1 interlaced=0 bluray_compat=0 constrained_intra=0 bframes=3 b_pyramid=2 b_adapt=1 b_bias=0 direct=1 weightb=1 open_gop=0 weightp=2 keyint=250 keyint_min=25 scenecut=40 intra_refresh=0 rc_lookahead=40 rc=crf mbtree=1 crf=23.0 qcomp=0.60 qpmin=0 qpmax=69 qpstep=4 ip_ratio=1.40 aq=1:1.00\n",
      "Output #0, mp4, to './videos by categories/frame error/SXM album art.mp4':\n",
      "  Metadata:\n",
      "    major_brand     : mp42\n",
      "    minor_version   : 512\n",
      "    compatible_brands: isomiso2avc1mp41\n",
      "    encoder         : Lavf58.29.100\n",
      "    Stream #0:0(und): Video: h264 (libx264) (avc1 / 0x31637661), yuv420p, 1280x720 [SAR 1:1 DAR 16:9], q=-1--1, 26.86 fps, 307500 tbn, 26.86 tbc (default)\n",
      "    Metadata:\n",
      "      creation_time   : 2023-07-27T14:11:36.000000Z\n",
      "      handler_name    : VideoHandler\n",
      "      encoder         : Lavc58.54.100 libx264\n",
      "    Side data:\n",
      "      cpb: bitrate max/min/avg: 0/0/0 buffer size: 0 vbv_delay: -1\n",
      "    Stream #0:1(und): Audio: aac (LC) (mp4a / 0x6134706D), 48000 Hz, stereo, fltp, 128 kb/s (default)\n",
      "    Metadata:\n",
      "      creation_time   : 2023-07-27T14:11:36.000000Z\n",
      "      handler_name    : Stereo\n",
      "      encoder         : Lavc58.54.100 aac\n",
      "frame= 1989 fps=168 q=-1.0 Lsize=   16696kB time=00:01:14.00 bitrate=1848.2kbits/s dup=146 drop=142 speed=6.24x    \n",
      "video:15485kB audio:1147kB subtitle:0kB other streams:0kB global headers:0kB muxing overhead: 0.382806%\n",
      "[libx264 @ 0x564056805680] frame I:16    Avg QP:20.23  size: 30437\n",
      "[libx264 @ 0x564056805680] frame P:827   Avg QP:22.21  size: 12942\n",
      "[libx264 @ 0x564056805680] frame B:1146  Avg QP:25.43  size:  4072\n",
      "[libx264 @ 0x564056805680] consecutive B-frames: 11.9% 28.3% 17.0% 42.8%\n",
      "[libx264 @ 0x564056805680] mb I  I16..4: 27.7% 52.2% 20.1%\n",
      "[libx264 @ 0x564056805680] mb P  I16..4:  8.1% 11.4%  2.0%  P16..4: 32.9% 10.0%  3.4%  0.0%  0.0%    skip:32.1%\n",
      "[libx264 @ 0x564056805680] mb B  I16..4:  1.3%  1.1%  0.3%  B16..8: 29.8%  4.5%  0.5%  direct: 1.7%  skip:60.8%  L0:49.3% L1:45.7% BI: 5.1%\n",
      "[libx264 @ 0x564056805680] 8x8 transform intra:51.3% inter:61.8%\n",
      "[libx264 @ 0x564056805680] coded y,uvDC,uvAC intra: 29.9% 43.2% 8.2% inter: 7.0% 8.7% 0.1%\n",
      "[libx264 @ 0x564056805680] i16 v,h,dc,p: 25% 44% 12% 19%\n",
      "[libx264 @ 0x564056805680] i8 v,h,dc,ddl,ddr,vr,hd,vl,hu: 30% 33% 25%  2%  2%  2%  3%  2%  3%\n",
      "[libx264 @ 0x564056805680] i4 v,h,dc,ddl,ddr,vr,hd,vl,hu: 25% 39% 16%  3%  3%  3%  5%  3%  3%\n",
      "[libx264 @ 0x564056805680] i8c dc,h,v,p: 58% 24% 15%  3%\n",
      "[libx264 @ 0x564056805680] Weighted P-Frames: Y:7.3% UV:4.7%\n",
      "[libx264 @ 0x564056805680] ref P L0: 74.0%  8.2% 13.2%  4.5%  0.1%\n",
      "[libx264 @ 0x564056805680] ref B L0: 84.6% 12.9%  2.5%\n",
      "[libx264 @ 0x564056805680] ref B L1: 96.3%  3.7%\n",
      "[libx264 @ 0x564056805680] kb/s:1712.89\n",
      "[aac @ 0x56405680a480] Qavg: 57263.590\n"
     ]
    },
    {
     "data": {
      "text/plain": [
       "CompletedProcess(args=['/home/gpu9hc/anaconda3/envs/myenv/bin/ffmpeg', '-ss', '00:00:00', '-to', '00:01:14', '-i', './videos by categories/frame error/SXM album art.m4v', './videos by categories/frame error/SXM album art.mp4', '-y'], returncode=0)"
      ]
     },
     "execution_count": 2,
     "metadata": {},
     "output_type": "execute_result"
    }
   ],
   "source": [
    "import imageio_ffmpeg\n",
    "import subprocess\n",
    "ffmpeg_path = imageio_ffmpeg.get_ffmpeg_exe()\n",
    "subprocess.run([ffmpeg_path, '-ss', start_time, '-to', end_time, '-i', input_video_path, output_video_path, '-y'])"
   ]
  },
  {
   "cell_type": "code",
   "execution_count": null,
   "id": "b800e5e5-69ca-4851-8278-4b9dcfd829a2",
   "metadata": {},
   "outputs": [],
   "source": []
  }
 ],
 "metadata": {
  "kernelspec": {
   "display_name": "Python 3 (ipykernel)",
   "language": "python",
   "name": "python3"
  },
  "language_info": {
   "codemirror_mode": {
    "name": "ipython",
    "version": 3
   },
   "file_extension": ".py",
   "mimetype": "text/x-python",
   "name": "python",
   "nbconvert_exporter": "python",
   "pygments_lexer": "ipython3",
   "version": "3.10.12"
  }
 },
 "nbformat": 4,
 "nbformat_minor": 5
}
